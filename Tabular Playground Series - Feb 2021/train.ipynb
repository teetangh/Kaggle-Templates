{
 "metadata": {
  "language_info": {
   "codemirror_mode": {
    "name": "ipython",
    "version": 3
   },
   "file_extension": ".py",
   "mimetype": "text/x-python",
   "name": "python",
   "nbconvert_exporter": "python",
   "pygments_lexer": "ipython3",
   "version": "3.6.9-final"
  },
  "orig_nbformat": 2,
  "kernelspec": {
   "name": "python36964bitd7781704012b436f878cffabfecb3e76",
   "display_name": "Python 3.6.9 64-bit",
   "language": "python"
  }
 },
 "nbformat": 4,
 "nbformat_minor": 2,
 "cells": [
  {
   "source": [
    "import numpy as np\n",
    "import pandas as pd\n",
    "import sklearn\n",
    "import matplotlib.pyplot as plt\n",
    "import seaborn as sns"
   ],
   "cell_type": "code",
   "metadata": {},
   "execution_count": 1,
   "outputs": []
  },
  {
   "cell_type": "code",
   "execution_count": 2,
   "metadata": {},
   "outputs": [],
   "source": [
    "from sklearn.model_selection import train_test_split\n",
    "from sklearn.ensemble import RandomForestClassifier\n",
    "from sklearn.metrics import accuracy_score\n",
    "from sklearn.feature_selection import VarianceThreshold"
   ]
  },
  {
   "cell_type": "code",
   "execution_count": 3,
   "metadata": {},
   "outputs": [
    {
     "output_type": "execute_result",
     "data": {
      "text/plain": [
       "   id cat0 cat1 cat2 cat3 cat4 cat5 cat6 cat7 cat8  ...     cont5     cont6  \\\n",
       "0   1    A    B    A    A    B    D    A    E    C  ...  0.881122  0.421650   \n",
       "1   2    B    A    A    A    B    B    A    E    A  ...  0.440011  0.346230   \n",
       "2   3    A    A    A    C    B    D    A    B    C  ...  0.914155  0.369602   \n",
       "3   4    A    A    A    C    B    D    A    E    G  ...  0.934138  0.578930   \n",
       "4   6    A    B    A    A    B    B    A    E    C  ...  0.382600  0.705940   \n",
       "\n",
       "      cont7     cont8     cont9    cont10    cont11    cont12    cont13  \\\n",
       "0  0.741413  0.895799  0.802461  0.724417  0.701915  0.877618  0.719903   \n",
       "1  0.278495  0.593413  0.546056  0.613252  0.741289  0.326679  0.808464   \n",
       "2  0.832564  0.865620  0.825251  0.264104  0.695561  0.869133  0.828352   \n",
       "3  0.407313  0.868099  0.794402  0.494269  0.698125  0.809799  0.614766   \n",
       "4  0.325193  0.440967  0.462146  0.724447  0.683073  0.343457  0.297743   \n",
       "\n",
       "     target  \n",
       "0  6.994023  \n",
       "1  8.071256  \n",
       "2  5.760456  \n",
       "3  7.806457  \n",
       "4  6.868974  \n",
       "\n",
       "[5 rows x 26 columns]"
      ],
      "text/html": "<div>\n<style scoped>\n    .dataframe tbody tr th:only-of-type {\n        vertical-align: middle;\n    }\n\n    .dataframe tbody tr th {\n        vertical-align: top;\n    }\n\n    .dataframe thead th {\n        text-align: right;\n    }\n</style>\n<table border=\"1\" class=\"dataframe\">\n  <thead>\n    <tr style=\"text-align: right;\">\n      <th></th>\n      <th>id</th>\n      <th>cat0</th>\n      <th>cat1</th>\n      <th>cat2</th>\n      <th>cat3</th>\n      <th>cat4</th>\n      <th>cat5</th>\n      <th>cat6</th>\n      <th>cat7</th>\n      <th>cat8</th>\n      <th>...</th>\n      <th>cont5</th>\n      <th>cont6</th>\n      <th>cont7</th>\n      <th>cont8</th>\n      <th>cont9</th>\n      <th>cont10</th>\n      <th>cont11</th>\n      <th>cont12</th>\n      <th>cont13</th>\n      <th>target</th>\n    </tr>\n  </thead>\n  <tbody>\n    <tr>\n      <th>0</th>\n      <td>1</td>\n      <td>A</td>\n      <td>B</td>\n      <td>A</td>\n      <td>A</td>\n      <td>B</td>\n      <td>D</td>\n      <td>A</td>\n      <td>E</td>\n      <td>C</td>\n      <td>...</td>\n      <td>0.881122</td>\n      <td>0.421650</td>\n      <td>0.741413</td>\n      <td>0.895799</td>\n      <td>0.802461</td>\n      <td>0.724417</td>\n      <td>0.701915</td>\n      <td>0.877618</td>\n      <td>0.719903</td>\n      <td>6.994023</td>\n    </tr>\n    <tr>\n      <th>1</th>\n      <td>2</td>\n      <td>B</td>\n      <td>A</td>\n      <td>A</td>\n      <td>A</td>\n      <td>B</td>\n      <td>B</td>\n      <td>A</td>\n      <td>E</td>\n      <td>A</td>\n      <td>...</td>\n      <td>0.440011</td>\n      <td>0.346230</td>\n      <td>0.278495</td>\n      <td>0.593413</td>\n      <td>0.546056</td>\n      <td>0.613252</td>\n      <td>0.741289</td>\n      <td>0.326679</td>\n      <td>0.808464</td>\n      <td>8.071256</td>\n    </tr>\n    <tr>\n      <th>2</th>\n      <td>3</td>\n      <td>A</td>\n      <td>A</td>\n      <td>A</td>\n      <td>C</td>\n      <td>B</td>\n      <td>D</td>\n      <td>A</td>\n      <td>B</td>\n      <td>C</td>\n      <td>...</td>\n      <td>0.914155</td>\n      <td>0.369602</td>\n      <td>0.832564</td>\n      <td>0.865620</td>\n      <td>0.825251</td>\n      <td>0.264104</td>\n      <td>0.695561</td>\n      <td>0.869133</td>\n      <td>0.828352</td>\n      <td>5.760456</td>\n    </tr>\n    <tr>\n      <th>3</th>\n      <td>4</td>\n      <td>A</td>\n      <td>A</td>\n      <td>A</td>\n      <td>C</td>\n      <td>B</td>\n      <td>D</td>\n      <td>A</td>\n      <td>E</td>\n      <td>G</td>\n      <td>...</td>\n      <td>0.934138</td>\n      <td>0.578930</td>\n      <td>0.407313</td>\n      <td>0.868099</td>\n      <td>0.794402</td>\n      <td>0.494269</td>\n      <td>0.698125</td>\n      <td>0.809799</td>\n      <td>0.614766</td>\n      <td>7.806457</td>\n    </tr>\n    <tr>\n      <th>4</th>\n      <td>6</td>\n      <td>A</td>\n      <td>B</td>\n      <td>A</td>\n      <td>A</td>\n      <td>B</td>\n      <td>B</td>\n      <td>A</td>\n      <td>E</td>\n      <td>C</td>\n      <td>...</td>\n      <td>0.382600</td>\n      <td>0.705940</td>\n      <td>0.325193</td>\n      <td>0.440967</td>\n      <td>0.462146</td>\n      <td>0.724447</td>\n      <td>0.683073</td>\n      <td>0.343457</td>\n      <td>0.297743</td>\n      <td>6.868974</td>\n    </tr>\n  </tbody>\n</table>\n<p>5 rows × 26 columns</p>\n</div>"
     },
     "metadata": {},
     "execution_count": 3
    }
   ],
   "source": [
    "data_train = pd.read_csv(\"data/train.csv\")\n",
    "\n",
    "data_train.head()"
   ]
  },
  {
   "cell_type": "code",
   "execution_count": 4,
   "metadata": {},
   "outputs": [
    {
     "output_type": "execute_result",
     "data": {
      "text/plain": [
       "id          int64\n",
       "cat0       object\n",
       "cat1       object\n",
       "cat2       object\n",
       "cat3       object\n",
       "cat4       object\n",
       "cat5       object\n",
       "cat6       object\n",
       "cat7       object\n",
       "cat8       object\n",
       "cat9       object\n",
       "cont0     float64\n",
       "cont1     float64\n",
       "cont2     float64\n",
       "cont3     float64\n",
       "cont4     float64\n",
       "cont5     float64\n",
       "cont6     float64\n",
       "cont7     float64\n",
       "cont8     float64\n",
       "cont9     float64\n",
       "cont10    float64\n",
       "cont11    float64\n",
       "cont12    float64\n",
       "cont13    float64\n",
       "target    float64\n",
       "dtype: object"
      ]
     },
     "metadata": {},
     "execution_count": 4
    }
   ],
   "source": [
    "data_train.dtypes"
   ]
  },
  {
   "cell_type": "code",
   "execution_count": 5,
   "metadata": {},
   "outputs": [
    {
     "output_type": "execute_result",
     "data": {
      "text/plain": [
       "(300000, 26)"
      ]
     },
     "metadata": {},
     "execution_count": 5
    }
   ],
   "source": [
    "data_train.shape"
   ]
  },
  {
   "cell_type": "code",
   "execution_count": 6,
   "metadata": {},
   "outputs": [
    {
     "output_type": "execute_result",
     "data": {
      "text/plain": [
       "                  id          cont0          cont1          cont2  \\\n",
       "count  300000.000000  300000.000000  300000.000000  300000.000000   \n",
       "mean   250018.576947       0.524634       0.506649       0.444115   \n",
       "std    144450.150010       0.204875       0.235269       0.200089   \n",
       "min         1.000000      -0.093505      -0.055105      -0.060274   \n",
       "25%    124772.500000       0.370451       0.352307       0.314121   \n",
       "50%    250002.500000       0.492208       0.615156       0.457271   \n",
       "75%    375226.500000       0.654793       0.688150       0.554835   \n",
       "max    499999.000000       1.052666       0.851746       1.017689   \n",
       "\n",
       "               cont3          cont4          cont5          cont6  \\\n",
       "count  300000.000000  300000.000000  300000.000000  300000.000000   \n",
       "mean        0.446214       0.455471       0.508337       0.478345   \n",
       "std         0.238669       0.200695       0.231612       0.192432   \n",
       "min         0.134760       0.189216      -0.087247       0.043953   \n",
       "25%         0.214572       0.279853       0.338747       0.339896   \n",
       "50%         0.377823       0.411351       0.441384       0.410090   \n",
       "75%         0.719758       0.621808       0.709515       0.604246   \n",
       "max         1.006469       0.994050       1.044433       1.093312   \n",
       "\n",
       "               cont7          cont8          cont9         cont10  \\\n",
       "count  300000.000000  300000.000000  300000.000000  300000.000000   \n",
       "mean        0.455904       0.459321       0.526899       0.504943   \n",
       "std         0.204493       0.220642       0.204025       0.201549   \n",
       "min         0.208703       0.004041       0.073040       0.059644   \n",
       "25%         0.278041       0.308655       0.361957       0.338898   \n",
       "50%         0.360736       0.425801       0.488867       0.519855   \n",
       "75%         0.639388       0.541525       0.752765       0.672809   \n",
       "max         1.036541       1.014156       0.972091       1.029773   \n",
       "\n",
       "              cont11         cont12         cont13         target  \n",
       "count  300000.000000  300000.000000  300000.000000  300000.000000  \n",
       "mean        0.529938       0.524549       0.503349       7.456260  \n",
       "std         0.230860       0.220892       0.225218       0.887295  \n",
       "min         0.064161      -0.005600       0.158121       0.000000  \n",
       "25%         0.316662       0.332143       0.291289       6.798341  \n",
       "50%         0.558827       0.407365       0.433909       7.496503  \n",
       "75%         0.720381       0.732431       0.730870       8.161166  \n",
       "max         1.038049       0.961370       0.873579      10.309208  "
      ],
      "text/html": "<div>\n<style scoped>\n    .dataframe tbody tr th:only-of-type {\n        vertical-align: middle;\n    }\n\n    .dataframe tbody tr th {\n        vertical-align: top;\n    }\n\n    .dataframe thead th {\n        text-align: right;\n    }\n</style>\n<table border=\"1\" class=\"dataframe\">\n  <thead>\n    <tr style=\"text-align: right;\">\n      <th></th>\n      <th>id</th>\n      <th>cont0</th>\n      <th>cont1</th>\n      <th>cont2</th>\n      <th>cont3</th>\n      <th>cont4</th>\n      <th>cont5</th>\n      <th>cont6</th>\n      <th>cont7</th>\n      <th>cont8</th>\n      <th>cont9</th>\n      <th>cont10</th>\n      <th>cont11</th>\n      <th>cont12</th>\n      <th>cont13</th>\n      <th>target</th>\n    </tr>\n  </thead>\n  <tbody>\n    <tr>\n      <th>count</th>\n      <td>300000.000000</td>\n      <td>300000.000000</td>\n      <td>300000.000000</td>\n      <td>300000.000000</td>\n      <td>300000.000000</td>\n      <td>300000.000000</td>\n      <td>300000.000000</td>\n      <td>300000.000000</td>\n      <td>300000.000000</td>\n      <td>300000.000000</td>\n      <td>300000.000000</td>\n      <td>300000.000000</td>\n      <td>300000.000000</td>\n      <td>300000.000000</td>\n      <td>300000.000000</td>\n      <td>300000.000000</td>\n    </tr>\n    <tr>\n      <th>mean</th>\n      <td>250018.576947</td>\n      <td>0.524634</td>\n      <td>0.506649</td>\n      <td>0.444115</td>\n      <td>0.446214</td>\n      <td>0.455471</td>\n      <td>0.508337</td>\n      <td>0.478345</td>\n      <td>0.455904</td>\n      <td>0.459321</td>\n      <td>0.526899</td>\n      <td>0.504943</td>\n      <td>0.529938</td>\n      <td>0.524549</td>\n      <td>0.503349</td>\n      <td>7.456260</td>\n    </tr>\n    <tr>\n      <th>std</th>\n      <td>144450.150010</td>\n      <td>0.204875</td>\n      <td>0.235269</td>\n      <td>0.200089</td>\n      <td>0.238669</td>\n      <td>0.200695</td>\n      <td>0.231612</td>\n      <td>0.192432</td>\n      <td>0.204493</td>\n      <td>0.220642</td>\n      <td>0.204025</td>\n      <td>0.201549</td>\n      <td>0.230860</td>\n      <td>0.220892</td>\n      <td>0.225218</td>\n      <td>0.887295</td>\n    </tr>\n    <tr>\n      <th>min</th>\n      <td>1.000000</td>\n      <td>-0.093505</td>\n      <td>-0.055105</td>\n      <td>-0.060274</td>\n      <td>0.134760</td>\n      <td>0.189216</td>\n      <td>-0.087247</td>\n      <td>0.043953</td>\n      <td>0.208703</td>\n      <td>0.004041</td>\n      <td>0.073040</td>\n      <td>0.059644</td>\n      <td>0.064161</td>\n      <td>-0.005600</td>\n      <td>0.158121</td>\n      <td>0.000000</td>\n    </tr>\n    <tr>\n      <th>25%</th>\n      <td>124772.500000</td>\n      <td>0.370451</td>\n      <td>0.352307</td>\n      <td>0.314121</td>\n      <td>0.214572</td>\n      <td>0.279853</td>\n      <td>0.338747</td>\n      <td>0.339896</td>\n      <td>0.278041</td>\n      <td>0.308655</td>\n      <td>0.361957</td>\n      <td>0.338898</td>\n      <td>0.316662</td>\n      <td>0.332143</td>\n      <td>0.291289</td>\n      <td>6.798341</td>\n    </tr>\n    <tr>\n      <th>50%</th>\n      <td>250002.500000</td>\n      <td>0.492208</td>\n      <td>0.615156</td>\n      <td>0.457271</td>\n      <td>0.377823</td>\n      <td>0.411351</td>\n      <td>0.441384</td>\n      <td>0.410090</td>\n      <td>0.360736</td>\n      <td>0.425801</td>\n      <td>0.488867</td>\n      <td>0.519855</td>\n      <td>0.558827</td>\n      <td>0.407365</td>\n      <td>0.433909</td>\n      <td>7.496503</td>\n    </tr>\n    <tr>\n      <th>75%</th>\n      <td>375226.500000</td>\n      <td>0.654793</td>\n      <td>0.688150</td>\n      <td>0.554835</td>\n      <td>0.719758</td>\n      <td>0.621808</td>\n      <td>0.709515</td>\n      <td>0.604246</td>\n      <td>0.639388</td>\n      <td>0.541525</td>\n      <td>0.752765</td>\n      <td>0.672809</td>\n      <td>0.720381</td>\n      <td>0.732431</td>\n      <td>0.730870</td>\n      <td>8.161166</td>\n    </tr>\n    <tr>\n      <th>max</th>\n      <td>499999.000000</td>\n      <td>1.052666</td>\n      <td>0.851746</td>\n      <td>1.017689</td>\n      <td>1.006469</td>\n      <td>0.994050</td>\n      <td>1.044433</td>\n      <td>1.093312</td>\n      <td>1.036541</td>\n      <td>1.014156</td>\n      <td>0.972091</td>\n      <td>1.029773</td>\n      <td>1.038049</td>\n      <td>0.961370</td>\n      <td>0.873579</td>\n      <td>10.309208</td>\n    </tr>\n  </tbody>\n</table>\n</div>"
     },
     "metadata": {},
     "execution_count": 6
    }
   ],
   "source": [
    "data_train.describe()"
   ]
  },
  {
   "cell_type": "code",
   "execution_count": 7,
   "metadata": {},
   "outputs": [],
   "source": [
    "X = data_train.drop(\"target\" , axis = 1)\n",
    "y = data_train[\"target\"]"
   ]
  },
  {
   "cell_type": "code",
   "execution_count": 8,
   "metadata": {},
   "outputs": [],
   "source": [
    "X_train , X_test , y_train , y_test = train_test_split(X , y , test_size = 0.2 , random_state = 0 )"
   ]
  },
  {
   "cell_type": "code",
   "execution_count": 9,
   "metadata": {},
   "outputs": [],
   "source": [
    "X_train_numeric = X_train.select_dtypes(include= np.number)\n",
    "X_test_numeric = X_test.select_dtypes(include= np.number)"
   ]
  },
  {
   "cell_type": "code",
   "execution_count": 10,
   "metadata": {},
   "outputs": [
    {
     "output_type": "execute_result",
     "data": {
      "text/plain": [
       "VarianceThreshold(threshold=0)"
      ]
     },
     "metadata": {},
     "execution_count": 10
    }
   ],
   "source": [
    "constant_filter = VarianceThreshold(threshold=0)\n",
    "constant_filter.fit(X_train_numeric)"
   ]
  },
  {
   "cell_type": "code",
   "execution_count": 11,
   "metadata": {},
   "outputs": [
    {
     "output_type": "execute_result",
     "data": {
      "text/plain": [
       "15"
      ]
     },
     "metadata": {},
     "execution_count": 11
    }
   ],
   "source": [
    "constant_filter.get_support().sum()"
   ]
  },
  {
   "cell_type": "code",
   "execution_count": 12,
   "metadata": {},
   "outputs": [
    {
     "output_type": "stream",
     "name": "stdout",
     "text": [
      "[False, False, False, False, False, False, False, False, False, False, False, False, False, False, False]\n"
     ]
    }
   ],
   "source": [
    "# Inverting the filter list\n",
    "constant_list = [not temp for temp in constant_filter.get_support()]\n",
    "print(constant_list)"
   ]
  },
  {
   "cell_type": "code",
   "execution_count": 13,
   "metadata": {},
   "outputs": [
    {
     "output_type": "execute_result",
     "data": {
      "text/plain": [
       "Index([], dtype='object')"
      ]
     },
     "metadata": {},
     "execution_count": 13
    }
   ],
   "source": [
    "X_train_numeric.columns[constant_list]"
   ]
  },
  {
   "cell_type": "code",
   "execution_count": 14,
   "metadata": {},
   "outputs": [],
   "source": [
    "# Transorm the dataset into non-constant feature space \n",
    "# Basically removing the constant features\n",
    "# To prevent overfitting\n",
    "X_train_filter = constant_filter.transform(X_train_numeric)\n",
    "X_test_filter = constant_filter.transform(X_test_numeric)"
   ]
  },
  {
   "cell_type": "code",
   "execution_count": 19,
   "metadata": {},
   "outputs": [
    {
     "output_type": "execute_result",
     "data": {
      "text/plain": [
       "VarianceThreshold(threshold=0.02)"
      ]
     },
     "metadata": {},
     "execution_count": 19
    }
   ],
   "source": [
    "# Removing feature almost constant or somewhat near to constant(Quasi Constant)\n",
    "quasi_constant_filter = VarianceThreshold(threshold=0.02)\n",
    "quasi_constant_filter.fit(X_train_numeric)"
   ]
  },
  {
   "cell_type": "code",
   "execution_count": 20,
   "metadata": {},
   "outputs": [
    {
     "output_type": "execute_result",
     "data": {
      "text/plain": [
       "15"
      ]
     },
     "metadata": {},
     "execution_count": 20
    }
   ],
   "source": [
    "quasi_constant_filter.get_support().sum()"
   ]
  },
  {
   "cell_type": "code",
   "execution_count": 21,
   "metadata": {},
   "outputs": [
    {
     "output_type": "execute_result",
     "data": {
      "text/plain": [
       "array([ True,  True,  True,  True,  True,  True,  True,  True,  True,\n",
       "        True,  True,  True,  True,  True,  True])"
      ]
     },
     "metadata": {},
     "execution_count": 21
    }
   ],
   "source": [
    "quasi_constant_filter.get_support()"
   ]
  },
  {
   "cell_type": "code",
   "execution_count": 22,
   "metadata": {},
   "outputs": [
    {
     "output_type": "stream",
     "name": "stdout",
     "text": [
      "[False, False, False, False, False, False, False, False, False, False, False, False, False, False, False]\n"
     ]
    }
   ],
   "source": [
    "quasi_constant_list = [not temp for temp in quasi_constant_filter.get_support()]\n",
    "print(quasi_constant_list)"
   ]
  },
  {
   "cell_type": "code",
   "execution_count": 23,
   "metadata": {},
   "outputs": [
    {
     "output_type": "execute_result",
     "data": {
      "text/plain": [
       "Index([], dtype='object')"
      ]
     },
     "metadata": {},
     "execution_count": 23
    }
   ],
   "source": [
    "X_train_numeric.columns[quasi_constant_list]"
   ]
  },
  {
   "cell_type": "code",
   "execution_count": 24,
   "metadata": {},
   "outputs": [],
   "source": [
    "X_train_quasi_filter = quasi_constant_filter.transform(X_train_filter)\n",
    "X_test_quasi_filter = quasi_constant_filter.transform(X_test_filter)"
   ]
  },
  {
   "cell_type": "code",
   "execution_count": 25,
   "metadata": {},
   "outputs": [
    {
     "output_type": "execute_result",
     "data": {
      "text/plain": [
       "((240000, 15), (60000, 15))"
      ]
     },
     "metadata": {},
     "execution_count": 25
    }
   ],
   "source": [
    "X_train_quasi_filter.shape,X_test_quasi_filter.shape"
   ]
  },
  {
   "cell_type": "code",
   "execution_count": 27,
   "metadata": {},
   "outputs": [],
   "source": [
    "X_train_numeric_T = X_train_quasi_filter.T\n",
    "X_test_numeric_T = X_test_quasi_filter.T"
   ]
  },
  {
   "cell_type": "code",
   "execution_count": 28,
   "metadata": {},
   "outputs": [
    {
     "output_type": "execute_result",
     "data": {
      "text/plain": [
       "((15, 240000), (15, 60000))"
      ]
     },
     "metadata": {},
     "execution_count": 28
    }
   ],
   "source": [
    "# Changing it back to Pandas Dataframe\n",
    "X_train_numeric_T = pd.DataFrame(X_train_numeric_T)\n",
    "X_test_numeric_T = pd.DataFrame(X_test_numeric_T)\n",
    "\n",
    "X_train_numeric_T.shape , X_test_numeric_T.shape"
   ]
  },
  {
   "cell_type": "code",
   "execution_count": 30,
   "metadata": {},
   "outputs": [
    {
     "output_type": "execute_result",
     "data": {
      "text/plain": [
       "0"
      ]
     },
     "metadata": {},
     "execution_count": 30
    }
   ],
   "source": [
    "X_train_numeric_T.duplicated().sum()"
   ]
  },
  {
   "cell_type": "code",
   "execution_count": null,
   "metadata": {},
   "outputs": [],
   "source": []
  }
 ]
}